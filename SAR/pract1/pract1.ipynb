{
 "cells": [
  {
   "attachments": {},
   "cell_type": "markdown",
   "metadata": {},
   "source": [
    "#### SAR - PRACTICA 1 \n",
    "\n",
    "Pablo García López 3CO21"
   ]
  },
  {
   "cell_type": "code",
   "execution_count": 1,
   "metadata": {},
   "outputs": [],
   "source": [
    "import string"
   ]
  },
  {
   "attachments": {},
   "cell_type": "markdown",
   "metadata": {},
   "source": [
    "**Ejercicio 1:** Un pangrama es una frase que contiene todas las letras del alfabeto Inglés, al menos una vez, por ejemplo: “The quick brown fox jumps over the lazy dog”. Escribe una función para comprobar si una cadena de texto recibida como argumento es un pangrama o no. La función debe devolver un booleano."
   ]
  },
  {
   "cell_type": "code",
   "execution_count": 2,
   "metadata": {},
   "outputs": [],
   "source": [
    "# Ejercicio 1\n",
    "\n",
    "def ejercicio1(x):\n",
    "    conjX = set(x.lower())\n",
    "    conjL = set(string.ascii_lowercase)\n",
    "\n",
    "    return conjL <= conjX\n"
   ]
  },
  {
   "cell_type": "code",
   "execution_count": 3,
   "metadata": {},
   "outputs": [
    {
     "data": {
      "text/plain": [
       "True"
      ]
     },
     "execution_count": 3,
     "metadata": {},
     "output_type": "execute_result"
    }
   ],
   "source": [
    "# Ejemplo ej: 1\n",
    "ejercicio1(\"The quick brown fox jumps over the lazy dog\")"
   ]
  },
  {
   "attachments": {},
   "cell_type": "markdown",
   "metadata": {},
   "source": [
    "**Ejercicio 2:** Un pangrama “perfecto” es un pangrama en el que cada letra del alfabeto inglés aparece una sola vez. Haz una función que reciba una cadena y determine si se trata de un pangrama\n",
    "perfecto o no. Para ello debes suponer que los únicos caracteres que puede contener la cadena,además de las propias letras, son espacios en blanco."
   ]
  },
  {
   "cell_type": "code",
   "execution_count": 4,
   "metadata": {},
   "outputs": [],
   "source": [
    "# Ejercicio 2\n",
    "\n",
    "def ejercicio2(x):\n",
    "    alfabeto = string.ascii_lowercase\n",
    "    res = x.lower()\n",
    "\n",
    "    for i in alfabeto:\n",
    "        if res.count(i) != 1:\n",
    "            return False\n",
    "    return True"
   ]
  },
  {
   "cell_type": "code",
   "execution_count": 5,
   "metadata": {},
   "outputs": [
    {
     "data": {
      "text/plain": [
       "True"
      ]
     },
     "execution_count": 5,
     "metadata": {},
     "output_type": "execute_result"
    }
   ],
   "source": [
    "# Ejemplo 1 ej: 2\n",
    "ejercicio2(\"Mr Jock TV quiz PhD bags few lynx\")"
   ]
  },
  {
   "cell_type": "code",
   "execution_count": 6,
   "metadata": {},
   "outputs": [
    {
     "data": {
      "text/plain": [
       "False"
      ]
     },
     "execution_count": 6,
     "metadata": {},
     "output_type": "execute_result"
    }
   ],
   "source": [
    "# Ejemplo 2 ej: 2\n",
    "ejercicio2(\"The quick brown fox jumps over the lazy dog\")"
   ]
  },
  {
   "attachments": {},
   "cell_type": "markdown",
   "metadata": {},
   "source": [
    "**Ejercicio 3:** Una cadena es anagrama de otra si contiene las mismas letras (y para cada letra el mismo número de veces) que la otra cadena. Por ejemplo, la cadenas “Life on mars” es un anagrama de “alien forms”. Hay que eliminar los espacios y símbolos de puntuación antes de ver que ambas cadenas tienen exactamente las mismas letras (sin importar el orden)."
   ]
  },
  {
   "cell_type": "code",
   "execution_count": 7,
   "metadata": {},
   "outputs": [],
   "source": [
    "# Ejercicio 3\n",
    "\n",
    "def ejercicio3(cad1, cad2):\n",
    "    cad1 = cad1.lower()\n",
    "    cad2 = cad2.lower()\n",
    "    ignore_char = \" ?!.,:;/\"\n",
    "\n",
    "    alfInt = set(char for char in cad1 if char not in ignore_char)\n",
    "\n",
    "    for i in alfInt:\n",
    "        if cad1.count(i) != cad2.count(i):\n",
    "            return False\n",
    "    return True\n"
   ]
  },
  {
   "cell_type": "code",
   "execution_count": 8,
   "metadata": {},
   "outputs": [
    {
     "data": {
      "text/plain": [
       "True"
      ]
     },
     "execution_count": 8,
     "metadata": {},
     "output_type": "execute_result"
    }
   ],
   "source": [
    "# Ejemplo 1 ej: 3\n",
    "ejercicio3(\"Life on mars\", \"alien forms\")"
   ]
  },
  {
   "cell_type": "code",
   "execution_count": 9,
   "metadata": {},
   "outputs": [
    {
     "data": {
      "text/plain": [
       "False"
      ]
     },
     "execution_count": 9,
     "metadata": {},
     "output_type": "execute_result"
    }
   ],
   "source": [
    "# Ejemplo 2 ej: 3\n",
    "ejercicio3(\"Life on mars\", \"alien war\")"
   ]
  },
  {
   "attachments": {},
   "cell_type": "markdown",
   "metadata": {},
   "source": [
    "**Ejercicio 4:** Haz una función que simule de una manera “limitada” el comando\n",
    "‘grep’ de Unix. La entrada de la función es:\n",
    "- La ruta de un fichero de texto (que supondremos con encoding UTF-8)\n",
    "- Una cadena de texto\n",
    "\n",
    "La salida es una lista que contenga (en el mismo orden) todas las líneas del\n",
    "fichero que contengan alguna ocurrencia de la cadena de texto recibida como\n",
    "argumento."
   ]
  },
  {
   "cell_type": "code",
   "execution_count": 10,
   "metadata": {},
   "outputs": [],
   "source": [
    "# Ejercicio 4\n",
    "\n",
    "def funcion_grep(ruta, cad):\n",
    "    \n",
    "    f = open(ruta, \"r\")\n",
    "    res = []\n",
    "\n",
    "    for line in f:\n",
    "        if cad in line:\n",
    "            res.append(line)\n",
    "    f.close()\n",
    "    return res\n"
   ]
  },
  {
   "cell_type": "code",
   "execution_count": 11,
   "metadata": {},
   "outputs": [
    {
     "data": {
      "text/plain": [
       "['hola, esta es la primera línea\\n',\n",
       " 'la segunda línea del fichero prueba.txt\\n',\n",
       " 'por fin termina este fichero de 4 líneas hola hola']"
      ]
     },
     "execution_count": 11,
     "metadata": {},
     "output_type": "execute_result"
    }
   ],
   "source": [
    "# Ejemplo ej: 4\n",
    "funcion_grep(\"./prueba.txt\", \"la\")"
   ]
  },
  {
   "attachments": {},
   "cell_type": "markdown",
   "metadata": {},
   "source": [
    "**Ejercicio 5:** Escribe una función char_freq() que toma una cadena y crea una lista de frecuencias de los carácteres que figuran en el mismo. Representa la frecuencia de carácteres con un diccionario Python. Prueba con algo como char_freq(\"abbabcbdbabdbdbabababcbcbab\")."
   ]
  },
  {
   "cell_type": "code",
   "execution_count": 12,
   "metadata": {},
   "outputs": [],
   "source": [
    "# Ejercicio 5\n",
    "\n",
    "def char_freq(cad):\n",
    "    '''\n",
    "    d = {}\n",
    "    for clave in cad:\n",
    "        d2 = {clave:cad.count(clave) }\n",
    "        d.update(d2)\n",
    "    '''\n",
    "    d = {clave:cad.count(clave) for clave in cad}\n",
    "    \n",
    "    return d"
   ]
  },
  {
   "cell_type": "code",
   "execution_count": 13,
   "metadata": {},
   "outputs": [
    {
     "data": {
      "text/plain": [
       "{'a': 7, 'b': 14, 'c': 3, 'd': 3}"
      ]
     },
     "execution_count": 13,
     "metadata": {},
     "output_type": "execute_result"
    }
   ],
   "source": [
    "# Ejemplo ej: 5\n",
    "char_freq(\"abbabcbdbabdbdbabababcbcbab\")"
   ]
  },
  {
   "attachments": {},
   "cell_type": "markdown",
   "metadata": {},
   "source": [
    "**Ejercicio 6:** Escribe una función que Determine si una cadena formada por corchetes es equilibrada, es decir, si consiste enteramente de pares de apertura / cierre de corchetes (en ese orden), y todos los corchetes abiertos se cierran correctamente"
   ]
  },
  {
   "cell_type": "code",
   "execution_count": 14,
   "metadata": {},
   "outputs": [],
   "source": [
    "def ejercicio6(cad):\n",
    "    cont = 0\n",
    "    for i in cad:\n",
    "        if i == \"[\":\n",
    "            cont += 1\n",
    "        if i == \"]\":\n",
    "            if cont == 0: return \"NOT OK\"\n",
    "            cont -= 1\n",
    "    if cont == 0: return \"OK\"\n",
    "    else: return \"NOT OK\"\n"
   ]
  },
  {
   "cell_type": "code",
   "execution_count": 15,
   "metadata": {},
   "outputs": [
    {
     "data": {
      "text/plain": [
       "'OK'"
      ]
     },
     "execution_count": 15,
     "metadata": {},
     "output_type": "execute_result"
    }
   ],
   "source": [
    "# Ejemplo 1 ej: 6\n",
    "ejercicio6(\"[hola]\")"
   ]
  },
  {
   "cell_type": "code",
   "execution_count": 16,
   "metadata": {},
   "outputs": [
    {
     "data": {
      "text/plain": [
       "'NOT OK'"
      ]
     },
     "execution_count": 16,
     "metadata": {},
     "output_type": "execute_result"
    }
   ],
   "source": [
    "# Ejemplo 2 ej: 6\n",
    "ejercicio6(\"]hola[\")"
   ]
  }
 ],
 "metadata": {
  "kernelspec": {
   "display_name": "Python 3",
   "language": "python",
   "name": "python3"
  },
  "language_info": {
   "codemirror_mode": {
    "name": "ipython",
    "version": 3
   },
   "file_extension": ".py",
   "mimetype": "text/x-python",
   "name": "python",
   "nbconvert_exporter": "python",
   "pygments_lexer": "ipython3",
   "version": "3.10.9 (main, Dec 19 2022, 17:35:49) [GCC 12.2.0]"
  },
  "orig_nbformat": 4,
  "vscode": {
   "interpreter": {
    "hash": "e7370f93d1d0cde622a1f8e1c04877d8463912d04d973331ad4851f04de6915a"
   }
  }
 },
 "nbformat": 4,
 "nbformat_minor": 2
}
