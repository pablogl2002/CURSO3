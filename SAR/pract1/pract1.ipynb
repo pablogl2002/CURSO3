{
 "cells": [
  {
   "attachments": {},
   "cell_type": "markdown",
   "metadata": {},
   "source": [
    "##################\n",
    "    PRACTICA 1\n",
    "##################"
   ]
  },
  {
   "cell_type": "code",
   "execution_count": 2,
   "metadata": {},
   "outputs": [],
   "source": [
    "\n",
    "import string\n"
   ]
  },
  {
   "cell_type": "code",
   "execution_count": 3,
   "metadata": {},
   "outputs": [
    {
     "data": {
      "text/plain": [
       "False"
      ]
     },
     "execution_count": 3,
     "metadata": {},
     "output_type": "execute_result"
    }
   ],
   "source": [
    "# Ejercicio 1\n",
    "def ejercicio1(x):\n",
    "    conjX = set(x.lower())\n",
    "    conjL = set(string.ascii_lowercase)\n",
    "\n",
    "    return conjL <= conjX\n",
    "\n",
    "ejercicio1(\"The quick brown fox jumps over the lazy dog\")\n",
    "#ejercicio1(\"1234\")\n"
   ]
  },
  {
   "cell_type": "code",
   "execution_count": 15,
   "metadata": {},
   "outputs": [
    {
     "data": {
      "text/plain": [
       "False"
      ]
     },
     "execution_count": 15,
     "metadata": {},
     "output_type": "execute_result"
    }
   ],
   "source": [
    "# Ejercicio 2\n",
    "def ejercicio2(x):\n",
    "    alfabeto = string.ascii_lowercase\n",
    "    res = x.lower()\n",
    "\n",
    "    for i in alfabeto:\n",
    "        if res.count(i) != 1:\n",
    "            return False\n",
    "    return True\n",
    "\n",
    "ejercicio2(\"Mr Jock TV quiz PhD bags few lynx\")\n",
    "#ejercicio2(\"The quick brown fox jumps over the lazy dog\")\n"
   ]
  },
  {
   "cell_type": "code",
   "execution_count": null,
   "metadata": {},
   "outputs": [],
   "source": [
    "# Ejercicio 3\n",
    "def ejercicio3(cad1, cad2):\n",
    "    cad1 = cad1.lower()\n",
    "    cad2 = cad2.lower()\n",
    "    ignore_char = \" ?!.,:;/\"\n",
    "\n",
    "    alfInt = set(char for char in cad1 if char not in ignore_char)\n",
    "\n",
    "\n",
    "    for i in alfInt:\n",
    "        if cad1.count(i) != cad2.count(i):\n",
    "            return False\n",
    "    return True\n",
    "\n",
    "ejercicio3(\"Life on mars\", \"alien forms\")\n"
   ]
  },
  {
   "cell_type": "code",
   "execution_count": 24,
   "metadata": {},
   "outputs": [
    {
     "ename": "AttributeError",
     "evalue": "'_io.TextIOWrapper' object has no attribute 'readLines'",
     "output_type": "error",
     "traceback": [
      "\u001b[0;31m---------------------------------------------------------------------------\u001b[0m",
      "\u001b[0;31mAttributeError\u001b[0m                            Traceback (most recent call last)",
      "Cell \u001b[0;32mIn[24], line 14\u001b[0m\n\u001b[1;32m     11\u001b[0m     f\u001b[39m.\u001b[39mclose()\n\u001b[1;32m     12\u001b[0m     \u001b[39mreturn\u001b[39;00m res\n\u001b[0;32m---> 14\u001b[0m ejercicio4(\u001b[39m\"\u001b[39;49m\u001b[39m./prueba.txt\u001b[39;49m\u001b[39m\"\u001b[39;49m, \u001b[39m\"\u001b[39;49m\u001b[39mla\u001b[39;49m\u001b[39m\"\u001b[39;49m)\n",
      "Cell \u001b[0;32mIn[24], line 5\u001b[0m, in \u001b[0;36mejercicio4\u001b[0;34m(ruta, cad)\u001b[0m\n\u001b[1;32m      2\u001b[0m \u001b[39mdef\u001b[39;00m \u001b[39mejercicio4\u001b[39m(ruta, cad):\n\u001b[1;32m      4\u001b[0m     f \u001b[39m=\u001b[39m \u001b[39mopen\u001b[39m(ruta, \u001b[39m\"\u001b[39m\u001b[39mr\u001b[39m\u001b[39m\"\u001b[39m)\n\u001b[0;32m----> 5\u001b[0m     read \u001b[39m=\u001b[39m f\u001b[39m.\u001b[39;49mreadLines()\n\u001b[1;32m      6\u001b[0m     res \u001b[39m=\u001b[39m []\n\u001b[1;32m      7\u001b[0m     \u001b[39mfor\u001b[39;00m i \u001b[39min\u001b[39;00m read:\n",
      "\u001b[0;31mAttributeError\u001b[0m: '_io.TextIOWrapper' object has no attribute 'readLines'"
     ]
    }
   ],
   "source": [
    "# Ejercicio 4\n",
    "def ejercicio4(ruta, cad):\n",
    "    \n",
    "    f = open(ruta, \"r\")\n",
    "    read = f.readLines()\n",
    "    \n",
    "    for i in read:\n",
    "        if cad in i: \n",
    "    \n",
    "    f.close()\n",
    "    return res\n",
    "\n",
    "ejercicio4(\"./prueba.txt\", \"la\")"
   ]
  }
 ],
 "metadata": {
  "kernelspec": {
   "display_name": "Python 3",
   "language": "python",
   "name": "python3"
  },
  "language_info": {
   "codemirror_mode": {
    "name": "ipython",
    "version": 3
   },
   "file_extension": ".py",
   "mimetype": "text/x-python",
   "name": "python",
   "nbconvert_exporter": "python",
   "pygments_lexer": "ipython3",
   "version": "3.10.9"
  },
  "orig_nbformat": 4,
  "vscode": {
   "interpreter": {
    "hash": "e7370f93d1d0cde622a1f8e1c04877d8463912d04d973331ad4851f04de6915a"
   }
  }
 },
 "nbformat": 4,
 "nbformat_minor": 2
}
