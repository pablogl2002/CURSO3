{
 "cells": [
  {
   "attachments": {},
   "cell_type": "markdown",
   "metadata": {},
   "source": [
    "# digits con clasificadores discriminativos"
   ]
  },
  {
   "attachments": {},
   "cell_type": "markdown",
   "metadata": {},
   "source": [
    "Al igual que en iris, sklearn facilita el aprendizaje y evaluación de clasificadores discriminativos en digits."
   ]
  },
  {
   "cell_type": "code",
   "execution_count": 6,
   "metadata": {},
   "outputs": [],
   "source": [
    "import numpy as np\n",
    "import matplotlib.pyplot as plt\n",
    "from scipy.stats import multivariate_normal\n",
    "from sklearn.datasets import load_digits\n",
    "from sklearn.model_selection import train_test_split\n",
    "from sklearn.linear_model import Perceptron, LogisticRegression\n",
    "from sklearn.metrics import accuracy_score\n",
    "from sklearn.decomposition import PCA\n",
    "from sklearn.preprocessing import StandardScaler, PolynomialFeatures\n",
    "from sklearn.pipeline import make_pipeline"
   ]
  },
  {
   "cell_type": "markdown",
   "metadata": {},
   "source": [
    "Lectura del corpus digits:"
   ]
  },
  {
   "cell_type": "code",
   "execution_count": 7,
   "metadata": {},
   "outputs": [],
   "source": [
    "digits = load_digits()\n",
    "X = digits.data\n",
    "y = digits.target\n",
    "X_train, X_test, y_train, y_test = train_test_split(\n",
    "    digits.data, digits.target, test_size=0.3, shuffle=True, random_state=23)"
   ]
  },
  {
   "attachments": {},
   "cell_type": "markdown",
   "metadata": {},
   "source": [
    "Veamos Perceptrón con penalización L2 en función de alpha:"
   ]
  },
  {
   "attachments": {},
   "cell_type": "markdown",
   "metadata": {},
   "source": [
    "La precisión de Perceptron(alpha=0.00013621602035512732, l1_ratio=0.9, penalty='elasticnet') es 96.3%"
   ]
  },
  {
   "cell_type": "code",
   "execution_count": null,
   "metadata": {},
   "outputs": [],
   "source": [
    "for l in ['l1', 'l2', 'elasticnet']:\n",
    "    for a in np.logspace(-3,-4,150):\n",
    "        for l2 in [0.2, 0.3, 0.4, 0.5, 0.6, 0.7, 0.8, 0.9]:\n",
    "            clf = Perceptron(penalty=l, alpha=a, l1_ratio= l2 ,random_state=0).fit(X_train, y_train)\n",
    "            acc = accuracy_score(y_test, clf.predict(X_test))\n",
    "            print('La precisión de {0!s} es {1:.1%}'.format(clf, acc))"
   ]
  },
  {
   "attachments": {},
   "cell_type": "markdown",
   "metadata": {},
   "source": [
    "Veamos regresión logística con varios solvers (y max_iter=10000)."
   ]
  },
  {
   "cell_type": "code",
   "execution_count": 8,
   "metadata": {},
   "outputs": [
    {
     "name": "stdout",
     "output_type": "stream",
     "text": [
      "La precisión de LogisticRegression(max_iter=10000) es 95.9%\n",
      "La precisión de LogisticRegression(max_iter=10000, solver='liblinear') es 94.1%\n",
      "La precisión de LogisticRegression(max_iter=10000, solver='newton-cg') es 95.9%\n",
      "La precisión de LogisticRegression(max_iter=10000, solver='sag') es 96.5%\n",
      "La precisión de LogisticRegression(max_iter=10000, solver='saga') es 96.3%\n"
     ]
    }
   ],
   "source": [
    "for solver in ['lbfgs', 'liblinear', 'newton-cg', 'sag', 'saga']:\n",
    "    clf = LogisticRegression(solver=solver, max_iter=10000).fit(X_train, y_train)\n",
    "    acc = accuracy_score(y_test, clf.predict(X_test))\n",
    "    print('La precisión de {0!s} es {1:.1%}'.format(clf, acc))"
   ]
  },
  {
   "attachments": {},
   "cell_type": "markdown",
   "metadata": {},
   "source": [
    "**Ejercicio:** Aparte de características polinómicas, el preproceso de características puede incluir estandarización (StandardScaler) y reducción de la dimensión (PCA). Trata de mejorar la precisión de regresión logística mediante pipelines con\n",
    "**ingeniería de características**."
   ]
  },
  {
   "cell_type": "code",
   "execution_count": 9,
   "metadata": {},
   "outputs": [
    {
     "name": "stdout",
     "output_type": "stream",
     "text": [
      "standardize False components 8: 86.9% acc\n",
      "standardize True components 8: 28.0% acc\n",
      "standardize False components 16: 94.1% acc\n",
      "standardize True components 16: 67.2% acc\n",
      "standardize False components 32: 95.6% acc\n",
      "standardize True components 32: 89.4% acc\n",
      "standardize False components 64: 98.0% acc\n",
      "standardize True components 64: 94.6% acc\n",
      "standardize False components 128: 97.8% acc\n",
      "standardize True components 128: 96.1% acc\n",
      "standardize False components 256: 98.0% acc\n",
      "standardize True components 256: 96.9% acc\n",
      "standardize False components 512: 98.1% acc\n",
      "standardize True components 512: 96.9% acc\n",
      "standardize False components 1024: 98.3% acc\n",
      "standardize True components 1024: 96.9% acc\n",
      "standardize False components 0: 98.1% acc\n",
      "standardize True components 0: 97.0% acc\n"
     ]
    }
   ],
   "source": [
    "def lr_exp(standardize=True, degree=1, n_components=0):\n",
    "  clf = make_pipeline(StandardScaler() if standardize else None, PolynomialFeatures(degree=degree), PCA(n_components=n_components) if n_components>0 else None,\n",
    "                      LogisticRegression(solver='sag', max_iter=10000, n_jobs=8)).fit(X_train, y_train)\n",
    "  y_pred = clf.predict(X_test)\n",
    "  return accuracy_score(y_test, y_pred)\n",
    "\n",
    "for n_components in [8,16,32,64,128,256,512,1024,0]:\n",
    "  for standardize in [False,True]:\n",
    "    acc =lr_exp(standardize=standardize, degree=2, n_components = n_components)\n",
    "    print('standardize {0:} components {1:}: {2:.1%} acc'.format(standardize, n_components, acc))"
   ]
  }
 ],
 "metadata": {
  "kernelspec": {
   "display_name": "Python 3",
   "language": "python",
   "name": "python3"
  },
  "language_info": {
   "codemirror_mode": {
    "name": "ipython",
    "version": 3
   },
   "file_extension": ".py",
   "mimetype": "text/x-python",
   "name": "python",
   "nbconvert_exporter": "python",
   "pygments_lexer": "ipython3",
   "version": "3.10.10"
  },
  "vscode": {
   "interpreter": {
    "hash": "e7370f93d1d0cde622a1f8e1c04877d8463912d04d973331ad4851f04de6915a"
   }
  }
 },
 "nbformat": 4,
 "nbformat_minor": 4
}
