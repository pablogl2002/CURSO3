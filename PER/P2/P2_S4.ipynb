{
 "cells": [
  {
   "attachments": {},
   "cell_type": "markdown",
   "metadata": {},
   "source": [
    "## Sesión 4\n",
    "\n",
    "En esta última sesión se propone realizar un ejercicio libre con el objetivo de mejorar lo máximo posible el acierto en la tarea MNIST. A modo de orientación se entiende por una buena tasa de acierto en esta tarea cuando obtenemos más de un 99% de acierto.\n",
    "\n",
    "Para conseguir este resultado podréis probar pipelines que preprocesen los datos adecuadamente. Probar diferentes clasificadores e incluso combinación de los mismos."
   ]
  },
  {
   "cell_type": "code",
   "execution_count": 12,
   "metadata": {},
   "outputs": [],
   "source": [
    "## imports necesarios\n",
    "from sklearn.datasets import fetch_openml\n",
    "from sklearn.metrics import accuracy_score\n",
    "import numpy as np\n",
    "from sklearn.model_selection import train_test_split\n",
    "from sklearn.neighbors import KNeighborsClassifier\n",
    "# ...\n",
    "from sklearn.ensemble import VotingClassifier\n",
    "from sklearn.ensemble import HistGradientBoostingClassifier\n",
    "from sklearn.pipeline import make_pipeline\n",
    "from sklearn.decomposition import PCA\n",
    "from sklearn.ensemble import BaggingClassifier\n"
   ]
  },
  {
   "cell_type": "code",
   "execution_count": 2,
   "metadata": {},
   "outputs": [
    {
     "name": "stderr",
     "output_type": "stream",
     "text": [
      "/usr/lib/python3.10/site-packages/sklearn/datasets/_openml.py:968: FutureWarning: The default value of `parser` will change from `'liac-arff'` to `'auto'` in 1.4. You can set `parser='auto'` to silence this warning. Therefore, an `ImportError` will be raised from 1.4 if the dataset is dense and pandas is not installed. Note that the pandas parser may return different data types. See the Notes Section in fetch_openml's API doc for details.\n",
      "  warn(\n"
     ]
    },
    {
     "name": "stdout",
     "output_type": "stream",
     "text": [
      "(70000, 784)\n",
      "(70000,)\n"
     ]
    }
   ],
   "source": [
    "mnist = fetch_openml(\"mnist_784\")\n",
    "\n",
    "print(mnist.data.shape)\n",
    "print(mnist.target.shape)\n",
    "\n",
    "data = mnist.data\n",
    "targets = mnist.target \n",
    "\n",
    "targets=targets.to_numpy()\n",
    "targets=np.int8(targets)\n",
    "\n",
    "data=data.to_numpy()\n",
    "data=np.float32(data)\n"
   ]
  },
  {
   "attachments": {},
   "cell_type": "markdown",
   "metadata": {},
   "source": [
    "### Partición de los datos\n",
    "\n",
    "Vamos a partir los datos en tres conjuntos: training, validation y test. Con un 80%, 10% y 10% respectivamente. \n",
    "\n",
    "Emplearemos el conjunto de training para aprender los parámetros del modelos, el conjunto de validation para escoger los mejores hiperparámetros. Finalmente reportaremos el resultado final sobre el conjunto de test."
   ]
  },
  {
   "cell_type": "code",
   "execution_count": 3,
   "metadata": {},
   "outputs": [],
   "source": [
    "# Partición de Datos\n",
    "tam_test = 0.1\n",
    "tam_val = 0.1\n",
    "tam_train = 0.8\n",
    "\n",
    "X_train, X_test, y_train, y_test = train_test_split(data, targets, test_size=tam_test, random_state=23)\n",
    "X_train, X_val, y_train, y_val = train_test_split(X_train, y_train, test_size=tam_val/(tam_train + tam_test), random_state=23) "
   ]
  },
  {
   "attachments": {},
   "cell_type": "markdown",
   "metadata": {},
   "source": [
    "Ejercicio: probar todo lo necesario para obtener un acc > 99%"
   ]
  },
  {
   "cell_type": "code",
   "execution_count": 11,
   "metadata": {},
   "outputs": [
    {
     "name": "stdout",
     "output_type": "stream",
     "text": [
      "La precisión de Pipeline(steps=[('pca', PCA(n_components=4)),\n",
      "                ('votingclassifier',\n",
      "                 VotingClassifier(estimators=[('kn',\n",
      "                                               KNeighborsClassifier(n_jobs=-1,\n",
      "                                                                    n_neighbors=3,\n",
      "                                                                    p=1)),\n",
      "                                              ('hg',\n",
      "                                               HistGradientBoostingClassifier())],\n",
      "                                  n_jobs=-1))]) es 61.4%\n",
      "La precisión de Pipeline(steps=[('pca', PCA(n_components=8)),\n",
      "                ('votingclassifier',\n",
      "                 VotingClassifier(estimators=[('kn',\n",
      "                                               KNeighborsClassifier(n_jobs=-1,\n",
      "                                                                    n_neighbors=3,\n",
      "                                                                    p=1)),\n",
      "                                              ('hg',\n",
      "                                               HistGradientBoostingClassifier())],\n",
      "                                  n_jobs=-1))]) es 89.2%\n",
      "La precisión de Pipeline(steps=[('pca', PCA(n_components=16)),\n",
      "                ('votingclassifier',\n",
      "                 VotingClassifier(estimators=[('kn',\n",
      "                                               KNeighborsClassifier(n_jobs=-1,\n",
      "                                                                    n_neighbors=3,\n",
      "                                                                    p=1)),\n",
      "                                              ('hg',\n",
      "                                               HistGradientBoostingClassifier())],\n",
      "                                  n_jobs=-1))]) es 95.4%\n",
      "La precisión de Pipeline(steps=[('pca', PCA(n_components=32)),\n",
      "                ('votingclassifier',\n",
      "                 VotingClassifier(estimators=[('kn',\n",
      "                                               KNeighborsClassifier(n_jobs=-1,\n",
      "                                                                    n_neighbors=3,\n",
      "                                                                    p=1)),\n",
      "                                              ('hg',\n",
      "                                               HistGradientBoostingClassifier())],\n",
      "                                  n_jobs=-1))]) es 96.9%\n"
     ]
    }
   ],
   "source": [
    "## Ejercicio obtener acc>99% \n",
    "clf1 = KNeighborsClassifier(n_neighbors=3, p=1, n_jobs=-1)\n",
    "clf2 = HistGradientBoostingClassifier()\n",
    "clf3 = VotingClassifier(estimators=[('kn', clf1), ('hg', clf2)], n_jobs=-1)\n",
    "for nc in [4,8,16,32]:\n",
    "    clf = make_pipeline(PCA(n_components=nc), clf3)\n",
    "    clf.fit(X_train, y_train)\n",
    "    y_pred = clf.predict(X_val)\n",
    "    acc = accuracy_score(y_val, y_pred)\n",
    "    print('La precisión de {0!s} es {1:.1%}'.format(clf, acc))\n"
   ]
  },
  {
   "cell_type": "code",
   "execution_count": 19,
   "metadata": {},
   "outputs": [
    {
     "name": "stdout",
     "output_type": "stream",
     "text": [
      "La precisión de Pipeline(steps=[('pca', PCA(n_components=32)),\n",
      "                ('votingclassifier',\n",
      "                 VotingClassifier(estimators=[('kn',\n",
      "                                               KNeighborsClassifier(n_jobs=-1,\n",
      "                                                                    n_neighbors=3,\n",
      "                                                                    p=1)),\n",
      "                                              ('bgkn',\n",
      "                                               BaggingClassifier(estimator=KNeighborsClassifier(n_jobs=-1,\n",
      "                                                                                                n_neighbors=3,\n",
      "                                                                                                p=1),\n",
      "                                                                 max_features=0.5,\n",
      "                                                                 max_samples=0.5)),\n",
      "                                              ('hg',\n",
      "                                               HistGradientBoostingClassifier(max_bins=8,\n",
      "                                                                              max_depth=128)),\n",
      "                                              ('pcahg',\n",
      "                                               Pipeline(steps=[('pca',\n",
      "                                                                PCA(n_components=32)),\n",
      "                                                               ('histgradientboostingclassifier',\n",
      "                                                                HistGradientBoostingClassifier(max_bins=8,\n",
      "                                                                                               max_depth=128))]))],\n",
      "                                  n_jobs=-1, voting='soft'))]) es 97.1%\n"
     ]
    }
   ],
   "source": [
    "clf1 = KNeighborsClassifier(n_neighbors=3, p=1, n_jobs=-1)\n",
    "clf1bag = BaggingClassifier(clf1, max_samples=0.5, max_features=0.5)\n",
    "clf2 = HistGradientBoostingClassifier(max_depth=128, max_bins=8)\n",
    "clf2_2 = make_pipeline(PCA(n_components=32), HistGradientBoostingClassifier(max_depth=128, max_bins=8))\n",
    "clf3 = VotingClassifier(estimators=[('kn', clf1), ('bgkn', clf1bag), ('hg', clf2), ('pcahg', clf2_2)], voting='soft' ,n_jobs=-1)\n",
    "#for nc in [4,8,16,32]:\n",
    "clf = make_pipeline(PCA(n_components=32), clf3)\n",
    "clf.fit(X_train, y_train)\n",
    "y_pred = clf.predict(X_val)\n",
    "acc = accuracy_score(y_val, y_pred)\n",
    "print('La precisión de {0!s} es {1:.1%}'.format(clf, acc))"
   ]
  }
 ],
 "metadata": {
  "kernelspec": {
   "display_name": "Python 3.7.4",
   "language": "python",
   "name": "python3"
  },
  "language_info": {
   "codemirror_mode": {
    "name": "ipython",
    "version": 3
   },
   "file_extension": ".py",
   "mimetype": "text/x-python",
   "name": "python",
   "nbconvert_exporter": "python",
   "pygments_lexer": "ipython3",
   "version": "3.10.10"
  },
  "orig_nbformat": 4,
  "vscode": {
   "interpreter": {
    "hash": "3067ead486e059ec00ffe7555bdb889e6e264a24dc711bf108106cc7baee8d5d"
   }
  }
 },
 "nbformat": 4,
 "nbformat_minor": 2
}
