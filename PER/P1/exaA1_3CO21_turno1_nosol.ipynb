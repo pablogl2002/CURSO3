{
 "cells": [
  {
   "attachments": {},
   "cell_type": "markdown",
   "metadata": {},
   "source": [
    "# Percepción (PER): examen de prácticas del bloque 1, grupo 3CO21, turno 1, 25-4-2023, 17:30-18:15\n",
    "\n",
    "Lee este cuaderno y realiza las actividades y ejercicios propuestos."
   ]
  },
  {
   "attachments": {},
   "cell_type": "markdown",
   "metadata": {},
   "source": [
    "## Importación de librerías relevantes\n",
    "\n",
    "Como sabes, sklearn facilita el aprendizaje y evaluación de clasificadores generativos y discriminativos en digits. \n",
    "\n",
    "Ejecuta el código siguiente para importar librerías relevantes. Es posible que tengas que añadir alguna importación."
   ]
  },
  {
   "cell_type": "code",
   "execution_count": 8,
   "metadata": {},
   "outputs": [],
   "source": [
    "import numpy as np\n",
    "import matplotlib.pyplot as plt\n",
    "from scipy.stats import multivariate_normal\n",
    "from sklearn.datasets import load_digits\n",
    "from sklearn.model_selection import train_test_split\n",
    "from sklearn.naive_bayes import GaussianNB\n",
    "from sklearn.metrics import accuracy_score\n",
    "#...\n",
    "from sklearn.linear_model import Perceptron"
   ]
  },
  {
   "attachments": {},
   "cell_type": "markdown",
   "metadata": {},
   "source": [
    "## Lectura del corpus digits\n",
    "\n",
    "Ejecuta el código siguiente con **random_state igual a las tres últimas cifras de tu DNI/NIE:**"
   ]
  },
  {
   "cell_type": "code",
   "execution_count": 5,
   "metadata": {},
   "outputs": [],
   "source": [
    "digits = load_digits()\n",
    "X = digits.data\n",
    "y = digits.target\n",
    "X_train, X_test, y_train, y_test = train_test_split(\n",
    "    digits.data, digits.target, test_size=0.75, shuffle=True, random_state=655)"
   ]
  },
  {
   "attachments": {},
   "cell_type": "markdown",
   "metadata": {},
   "source": [
    "# Naive Bayes Gaussiano\n",
    "\n",
    "Ejecuta el código siguiente para estudiar la precisión de naive Bayes Gaussiano en función de var_smoothing:"
   ]
  },
  {
   "cell_type": "code",
   "execution_count": 6,
   "metadata": {},
   "outputs": [
    {
     "name": "stdout",
     "output_type": "stream",
     "text": [
      "La precisión de GaussianNB() es 82.1%\n",
      "La precisión de GaussianNB(var_smoothing=1e-05) es 86.3%\n",
      "La precisión de GaussianNB(var_smoothing=0.1) es 91.7%\n",
      "La precisión de GaussianNB(var_smoothing=0.2) es 91.8%\n",
      "La precisión de GaussianNB(var_smoothing=0.5) es 91.5%\n",
      "La precisión de GaussianNB(var_smoothing=1) es 90.8%\n"
     ]
    }
   ],
   "source": [
    "for v in [1e-9, 1e-5, 1e-1, .2, .5, 1]:\n",
    "    clf = GaussianNB(var_smoothing=v).fit(X_train, y_train)\n",
    "    acc = accuracy_score(y_test, clf.predict(X_test))\n",
    "    print('La precisión de {0!s} es {1:.1%}'.format(clf, acc))"
   ]
  },
  {
   "attachments": {},
   "cell_type": "markdown",
   "metadata": {},
   "source": [
    "# Perceptron\n",
    "\n",
    "Añade una celda de código para estudiar el comportamiento del clasificador discriminativo basado en el Perceptron en función del valor del alpha con la regularización L2. Busca aquel valor de alpha que maximice el acierto sobre el conjunto de test."
   ]
  },
  {
   "cell_type": "code",
   "execution_count": 19,
   "metadata": {},
   "outputs": [
    {
     "name": "stdout",
     "output_type": "stream",
     "text": [
      "La precisión de Perceptron(alpha=1e-12, penalty='l2') es 90.9%\n",
      "La precisión de Perceptron(alpha=1e-08, penalty='l2') es 90.9%\n",
      "La precisión de Perceptron(alpha=1e-07, penalty='l2') es 90.9%\n",
      "La precisión de Perceptron(alpha=1e-06, penalty='l2') es 92.5%\n",
      "La precisión de Perceptron(alpha=1e-05, penalty='l2') es 88.9%\n",
      "La precisión de Perceptron(alpha=0.01, penalty='l2') es 73.1%\n",
      "La precisión de Perceptron(alpha=0.1, penalty='l2') es 17.9%\n",
      "La precisión de Perceptron(alpha=0, penalty='l2') es 91.0%\n"
     ]
    }
   ],
   "source": [
    "\n",
    "for a in [1e-12, 1e-8, 1e-7, 1e-6, 1e-5, 1e-2, 0.1, 0]:\n",
    "    clf = Perceptron(penalty='l2', alpha=a).fit(X_train, y_train)\n",
    "    acc = accuracy_score(y_test, clf.predict(X_test))\n",
    "    print('La precisión de {0!s} es {1:.1%}'.format(clf, acc))\n"
   ]
  }
 ],
 "metadata": {
  "kernelspec": {
   "display_name": "Python 3",
   "language": "python",
   "name": "python3"
  },
  "language_info": {
   "codemirror_mode": {
    "name": "ipython",
    "version": 3
   },
   "file_extension": ".py",
   "mimetype": "text/x-python",
   "name": "python",
   "nbconvert_exporter": "python",
   "pygments_lexer": "ipython3",
   "version": "3.10.10"
  },
  "vscode": {
   "interpreter": {
    "hash": "e7370f93d1d0cde622a1f8e1c04877d8463912d04d973331ad4851f04de6915a"
   }
  }
 },
 "nbformat": 4,
 "nbformat_minor": 4
}
